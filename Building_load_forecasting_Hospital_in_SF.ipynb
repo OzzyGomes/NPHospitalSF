{
  "nbformat": 4,
  "nbformat_minor": 0,
  "metadata": {
    "colab": {
      "provenance": []
    },
    "kernelspec": {
      "name": "python3",
      "display_name": "Python 3"
    },
    "language_info": {
      "name": "python"
    }
  },
  "cells": [
    {
      "cell_type": "markdown",
      "source": [
        "### O NeuralProphet è realmente uma ferramenta de predição completa completa, podemos conforme o código abaixo, dividir nossos dados em treino e teste pois a ferramenta nos fornece métodos para isso: .split_df(df, valid_p=0.2) logo vc poderá testar o modelo com dados ppassados antes de testa-lo com dados do futuro."
      ],
      "metadata": {
        "id": "p-tUKuVkyGzj"
      }
    },
    {
      "cell_type": "code",
      "source": [
        "if \"google.colab\" in str(get_ipython()):\n",
        "    # uninstall preinstalled packages from Colab to avoid conflicts\n",
        "    !pip uninstall -y torch notebook notebook_shim tensorflow tensorflow-datasets prophet torchaudio torchdata torchtext torchvision\n",
        "    !pip install git+https://github.com/ourownstory/neural_prophet.git # may take a while\n",
        "    #!pip install neuralprophet # much faster, but may not have the latest upgrades/bugfixes\n",
        "\n",
        "import pandas as pd\n",
        "from neuralprophet import NeuralProphet, set_log_level\n",
        "\n",
        "set_log_level(\"ERROR\")"
      ],
      "metadata": {
        "id": "-DBRZw7cY1cU"
      },
      "execution_count": null,
      "outputs": []
    },
    {
      "cell_type": "code",
      "source": [
        "data_location = \"https://raw.githubusercontent.com/ourownstory/neuralprophet-data/main/datasets/\"\n",
        "\n",
        "\n",
        "sf_load_df = pd.read_csv(data_location + \"energy/SF_hospital_load.csv\")\n",
        "sf_load_df.head(3)"
      ],
      "metadata": {
        "id": "eCAgu2FfZcYS"
      },
      "execution_count": null,
      "outputs": []
    }
  ]
}